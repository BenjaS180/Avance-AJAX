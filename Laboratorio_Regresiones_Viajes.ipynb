{
  "cells": [
    {
      "cell_type": "markdown",
      "metadata": {
        "id": "view-in-github",
        "colab_type": "text"
      },
      "source": [
        "<a href=\"https://colab.research.google.com/github/BenjaS180/Avance-AJAX/blob/main/Laboratorio_Regresiones_Viajes.ipynb\" target=\"_parent\"><img src=\"https://colab.research.google.com/assets/colab-badge.svg\" alt=\"Open In Colab\"/></a>"
      ]
    },
    {
      "cell_type": "markdown",
      "id": "b979c333",
      "metadata": {
        "id": "b979c333"
      },
      "source": [
        "\n",
        "# 🧠 Laboratorio de Introducción a Regresiones\n",
        "\n",
        "**Duración estimada**: 30 minutos  \n",
        "**Autor**: Pablo Alvarez  \n",
        "**Objetivo**: Aplicar regresión lineal y logística usando un dataset de seguros de viaje.  \n",
        "**Fuente del Dataset**: [Kaggle](https://www.kaggle.com/datasets/tejashvi14/travel-insurance-prediction)\n"
      ]
    },
    {
      "cell_type": "code",
      "execution_count": null,
      "id": "8e1b8adc",
      "metadata": {
        "id": "8e1b8adc"
      },
      "outputs": [],
      "source": [
        "\n",
        "# 📦 Instalación de librerías necesarias\n",
        "!pip install -q seaborn\n"
      ]
    },
    {
      "cell_type": "code",
      "execution_count": null,
      "id": "09b5b296",
      "metadata": {
        "id": "09b5b296"
      },
      "outputs": [],
      "source": [
        "\n",
        "# 📚 Importamos las bibliotecas\n",
        "import pandas as pd\n",
        "import numpy as np\n",
        "import matplotlib.pyplot as plt\n",
        "import seaborn as sns\n",
        "from sklearn.linear_model import LinearRegression, LogisticRegression\n",
        "from sklearn.model_selection import train_test_split\n",
        "from sklearn.metrics import mean_squared_error, accuracy_score, classification_report\n"
      ]
    },
    {
      "cell_type": "code",
      "execution_count": null,
      "id": "d6be2a04",
      "metadata": {
        "id": "d6be2a04"
      },
      "outputs": [],
      "source": [
        "\n",
        "# 📁 Cargamos el dataset\n",
        "url = \"/content/travel_insurance.csv\"\n",
        "df = pd.read_csv(url)\n",
        "df.head()\n"
      ]
    },
    {
      "cell_type": "markdown",
      "id": "2bb44245",
      "metadata": {
        "id": "2bb44245"
      },
      "source": [
        "## 📊 Sección 1: Análisis Exploratorio"
      ]
    },
    {
      "cell_type": "code",
      "execution_count": null,
      "id": "3600d9bb",
      "metadata": {
        "id": "3600d9bb"
      },
      "outputs": [],
      "source": [
        "\n",
        "df.info()\n",
        "df.describe()\n",
        "sns.scatterplot(data=df, x=\"Age\", y=\"AnnualIncome\")\n",
        "plt.title(\"Ingreso Anual vs Edad\")\n",
        "plt.show()\n"
      ]
    },
    {
      "cell_type": "markdown",
      "id": "d8793960",
      "metadata": {
        "id": "d8793960"
      },
      "source": [
        "## 📈 Sección 2: Regresión Lineal"
      ]
    },
    {
      "cell_type": "code",
      "execution_count": null,
      "id": "c7c602ba",
      "metadata": {
        "id": "c7c602ba"
      },
      "outputs": [],
      "source": [
        "\n",
        "X = df[['Age']]\n",
        "y = df['AnnualIncome']\n",
        "model = LinearRegression()\n",
        "model.fit(X, y)\n",
        "y_pred = model.predict(X)\n",
        "mse = mean_squared_error(y, y_pred)\n",
        "print(f\"Error cuadrático medio (MSE): {mse:.2f}\")\n",
        "plt.scatter(X, y, label='Real')\n",
        "plt.plot(X, y_pred, color='red', label='Predicho')\n",
        "plt.title(\"Regresión Lineal: Ingreso según Edad\")\n",
        "plt.legend()\n",
        "plt.show()\n"
      ]
    },
    {
      "cell_type": "markdown",
      "id": "6aca776d",
      "metadata": {
        "id": "6aca776d"
      },
      "source": [
        "## 🔐 Sección 3: Regresión Logística"
      ]
    },
    {
      "cell_type": "code",
      "execution_count": null,
      "id": "6492debf",
      "metadata": {
        "id": "6492debf"
      },
      "outputs": [],
      "source": [
        "\n",
        "X = df[['Age', 'AnnualIncome', 'FamilyMembers']]\n",
        "y = df['TravelInsurance']\n",
        "X_train, X_test, y_train, y_test = train_test_split(X, y, test_size=0.2, random_state=42)\n",
        "log_model = LogisticRegression()\n",
        "log_model.fit(X_train, y_train)\n",
        "y_pred = log_model.predict(X_test)\n",
        "print(\"Accuracy:\", accuracy_score(y_test, y_pred))\n",
        "print(\"\\nReporte de clasificación:\\n\", classification_report(y_test, y_pred))\n"
      ]
    },
    {
      "cell_type": "markdown",
      "id": "ad983664",
      "metadata": {
        "id": "ad983664"
      },
      "source": [
        "## 🧠 Ejercicios Propuestos"
      ]
    },
    {
      "cell_type": "markdown",
      "id": "15d4f609",
      "metadata": {
        "id": "15d4f609"
      },
      "source": [
        "\n",
        "1. Modifica la regresión lineal para predecir el gasto en viajes (`FrequentFlyer` puede ayudar).\n",
        "2. Prueba la regresión logística usando solo `Age` y `AnnualIncome`.\n",
        "3. ¿Qué pasaría si agregas `EverTravelledAbroad` como variable?\n"
      ]
    },
    {
      "cell_type": "markdown",
      "id": "aacb7f43",
      "metadata": {
        "id": "aacb7f43"
      },
      "source": [
        "## 🧪 Desafío Final"
      ]
    },
    {
      "cell_type": "code",
      "execution_count": null,
      "id": "978ffcb3",
      "metadata": {
        "id": "978ffcb3"
      },
      "outputs": [],
      "source": [
        "\n",
        "# 🎯 Objetivo: Crear un modelo de regresión logística que prediga si una persona comprará seguro\n",
        "# solo con las variables Age y MonthlyIncome.\n",
        "#Imprimir curva ROC y AUC para validar resultados\n",
        "\n",
        "# Tu código aquí 💻\n",
        "...\n"
      ]
    }
  ],
  "metadata": {
    "colab": {
      "provenance": [],
      "include_colab_link": true
    },
    "language_info": {
      "name": "python"
    },
    "kernelspec": {
      "name": "python3",
      "display_name": "Python 3"
    }
  },
  "nbformat": 4,
  "nbformat_minor": 5
}